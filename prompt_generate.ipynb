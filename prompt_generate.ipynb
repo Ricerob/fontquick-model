{
 "cells": [
  {
   "cell_type": "code",
   "execution_count": null,
   "metadata": {},
   "outputs": [],
   "source": [
    "%pip install chardet IPython"
   ]
  },
  {
   "cell_type": "code",
   "execution_count": null,
   "metadata": {},
   "outputs": [],
   "source": [
    "import pandas as pd\n",
    "import os\n",
    "import glob\n",
    "import chardet"
   ]
  },
  {
   "cell_type": "code",
   "execution_count": 171,
   "metadata": {},
   "outputs": [],
   "source": [
    "if os.path.exists('df.csv'):\n",
    "    df = pd.read_csv('df.csv')\n",
    "else:\n",
    "    dfs = []\n",
    "    for file in glob.glob(os.path.join('./data', '*.csv')):\n",
    "        with open(file, 'rb') as f:\n",
    "            result = chardet.detect(f.read())\n",
    "            encoding = result['encoding']\n",
    "        df = pd.read_csv(file, encoding=encoding)\n",
    "        dfs.append(df)\n",
    "    df = pd.concat(dfs)\n",
    "    df = df[df['tags'] != '[]']\n",
    "    df['prompt'] = \"\""
   ]
  },
  {
   "cell_type": "code",
   "execution_count": 172,
   "metadata": {},
   "outputs": [
    {
     "data": {
      "text/html": [
       "<div>\n",
       "<style scoped>\n",
       "    .dataframe tbody tr th:only-of-type {\n",
       "        vertical-align: middle;\n",
       "    }\n",
       "\n",
       "    .dataframe tbody tr th {\n",
       "        vertical-align: top;\n",
       "    }\n",
       "\n",
       "    .dataframe thead th {\n",
       "        text-align: right;\n",
       "    }\n",
       "</style>\n",
       "<table border=\"1\" class=\"dataframe\">\n",
       "  <thead>\n",
       "    <tr style=\"text-align: right;\">\n",
       "      <th></th>\n",
       "      <th>name</th>\n",
       "      <th>author</th>\n",
       "      <th>img</th>\n",
       "      <th>license</th>\n",
       "      <th>downloads</th>\n",
       "      <th>tags</th>\n",
       "      <th>prompt</th>\n",
       "    </tr>\n",
       "  </thead>\n",
       "  <tbody>\n",
       "    <tr>\n",
       "      <th>0</th>\n",
       "      <td>W.J. Pearce</td>\n",
       "      <td>Listemageren</td>\n",
       "      <td>https://see.fontimg.com/api/renderfont4/JO0x/e...</td>\n",
       "      <td>Postcardware</td>\n",
       "      <td>3956</td>\n",
       "      <td>['Poster', 'Hollow', 'Arts &amp; Crafts', 'All Caps']</td>\n",
       "      <td>NaN</td>\n",
       "    </tr>\n",
       "    <tr>\n",
       "      <th>1</th>\n",
       "      <td>Wabbit Sans</td>\n",
       "      <td>Chequered Ink</td>\n",
       "      <td>data:image/gif;base64,R0lGODlhAQABAAAAACH5BAEK...</td>\n",
       "      <td>Freeware, Non-Commercial</td>\n",
       "      <td>2541</td>\n",
       "      <td>['Retro', '70s', 'Groovy']</td>\n",
       "      <td>NaN</td>\n",
       "    </tr>\n",
       "    <tr>\n",
       "      <th>2</th>\n",
       "      <td>Wabroye</td>\n",
       "      <td>gluk</td>\n",
       "      <td>data:image/gif;base64,R0lGODlhAQABAAAAACH5BAEK...</td>\n",
       "      <td>SIL Open Font License (OFL)</td>\n",
       "      <td>24559</td>\n",
       "      <td>['Fancy', 'Serif', 'Vintage', 'Medieval', 'Dec...</td>\n",
       "      <td>NaN</td>\n",
       "    </tr>\n",
       "    <tr>\n",
       "      <th>3</th>\n",
       "      <td>Wacamóler Caps</td>\n",
       "      <td>deFharo</td>\n",
       "      <td>data:image/gif;base64,R0lGODlhAQABAAAAACH5BAEK...</td>\n",
       "      <td>Freeware, Non-Commercial</td>\n",
       "      <td>7083</td>\n",
       "      <td>['Decorative', 'Movies', 'Old Western', 'Wild ...</td>\n",
       "      <td>NaN</td>\n",
       "    </tr>\n",
       "    <tr>\n",
       "      <th>4</th>\n",
       "      <td>WaChaKa</td>\n",
       "      <td>AdamAnt Designs</td>\n",
       "      <td>https://see.fontimg.com/api/renderfont4/jWJR/e...</td>\n",
       "      <td>Freeware</td>\n",
       "      <td>1646</td>\n",
       "      <td>['All Caps', 'Display']</td>\n",
       "      <td>NaN</td>\n",
       "    </tr>\n",
       "  </tbody>\n",
       "</table>\n",
       "</div>"
      ],
      "text/plain": [
       "             name           author  \\\n",
       "0    W.J. Pearce      Listemageren   \n",
       "1     Wabbit Sans    Chequered Ink   \n",
       "2         Wabroye             gluk   \n",
       "3  Wacamóler Caps          deFharo   \n",
       "4         WaChaKa  AdamAnt Designs   \n",
       "\n",
       "                                                 img  \\\n",
       "0  https://see.fontimg.com/api/renderfont4/JO0x/e...   \n",
       "1  data:image/gif;base64,R0lGODlhAQABAAAAACH5BAEK...   \n",
       "2  data:image/gif;base64,R0lGODlhAQABAAAAACH5BAEK...   \n",
       "3  data:image/gif;base64,R0lGODlhAQABAAAAACH5BAEK...   \n",
       "4  https://see.fontimg.com/api/renderfont4/jWJR/e...   \n",
       "\n",
       "                       license  downloads  \\\n",
       "0                 Postcardware       3956   \n",
       "1     Freeware, Non-Commercial       2541   \n",
       "2  SIL Open Font License (OFL)      24559   \n",
       "3     Freeware, Non-Commercial       7083   \n",
       "4                     Freeware       1646   \n",
       "\n",
       "                                                tags prompt  \n",
       "0  ['Poster', 'Hollow', 'Arts & Crafts', 'All Caps']    NaN  \n",
       "1                         ['Retro', '70s', 'Groovy']    NaN  \n",
       "2  ['Fancy', 'Serif', 'Vintage', 'Medieval', 'Dec...    NaN  \n",
       "3  ['Decorative', 'Movies', 'Old Western', 'Wild ...    NaN  \n",
       "4                            ['All Caps', 'Display']    NaN  "
      ]
     },
     "execution_count": 172,
     "metadata": {},
     "output_type": "execute_result"
    }
   ],
   "source": [
    "df.head()"
   ]
  },
  {
   "cell_type": "markdown",
   "metadata": {},
   "source": [
    "### Prompt Generation\n",
    "The following cells aid in augmenting the dataset with faux prompts that mimic what a user might ask for. Prompts need both adjectives (to correlate with the tags) and nouns (embed adjectives w/ scenarios a user might need a font for). \n",
    "Example: 'I need an edgy font for a punk band.'"
   ]
  },
  {
   "cell_type": "code",
   "execution_count": 173,
   "metadata": {},
   "outputs": [],
   "source": [
    "import random\n",
    "from IPython.display import Image, display, clear_output\n",
    "\n",
    "def get_random_row(df):\n",
    "    random_index = random.randint(0, len(df) - 1)\n",
    "    if df.iloc[random_index]['prompt'] == '':\n",
    "        return df.iloc[random_index]\n",
    "    else:\n",
    "        get_random_row(df)\n"
   ]
  },
  {
   "cell_type": "code",
   "execution_count": 165,
   "metadata": {},
   "outputs": [
    {
     "name": "stdout",
     "output_type": "stream",
     "text": [
      "Decondor ['Serif', 'Ligatures', 'Display', 'Narrow']\n",
      "name                                                  Decondor\n",
      "author                                             Alit Design\n",
      "img          data:image/gif;base64,R0lGODlhAQABAAAAACH5BAEK...\n",
      "license                               Freeware, Non-Commercial\n",
      "downloads                                                 3461\n",
      "tags               ['Serif', 'Ligatures', 'Display', 'Narrow']\n",
      "prompt       I'd like a trendy yet old feeling font for a d...\n",
      "Name: 854, dtype: object\n"
     ]
    },
    {
     "name": "stderr",
     "output_type": "stream",
     "text": [
      "/var/folders/mv/1d7qtrsj33g313mpvxzzv5fh0000gn/T/ipykernel_45134/1598917740.py:8: SettingWithCopyWarning: \n",
      "A value is trying to be set on a copy of a slice from a DataFrame\n",
      "\n",
      "See the caveats in the documentation: https://pandas.pydata.org/pandas-docs/stable/user_guide/indexing.html#returning-a-view-versus-a-copy\n",
      "  random_row['prompt'] = prompt\n"
     ]
    }
   ],
   "source": [
    "random_row = get_random_row(df)\n",
    "print(random_row['name'], random_row['tags'])\n",
    "\n",
    "if random_row['img'].startswith('https://'):\n",
    "    display(Image(url=random_row['img']))\n",
    "\n",
    "prompt = input(\"Prompt: \")\n",
    "random_row['prompt'] = prompt\n",
    "\n",
    "df.iloc[random_row.name] = random_row\n",
    "print(df.iloc[random_row.name])"
   ]
  },
  {
   "cell_type": "markdown",
   "metadata": {},
   "source": [
    "### Save DataFrame\n",
    "We need ~400 prompts, and this is a low amount. Since I'm doing this manually, I need to save and re-load the DataFrame. I do that below."
   ]
  },
  {
   "cell_type": "code",
   "execution_count": 167,
   "metadata": {},
   "outputs": [],
   "source": [
    "df.to_csv('df.csv', index=False)"
   ]
  },
  {
   "cell_type": "code",
   "execution_count": 174,
   "metadata": {},
   "outputs": [
    {
     "name": "stdout",
     "output_type": "stream",
     "text": [
      "90\n"
     ]
    }
   ],
   "source": [
    "# Check how many prompts we have\n",
    "not_empty_prompts = df[df['prompt'].notna() & (df['prompt'] != '')]\n",
    "num_not_empty_prompts = len(not_empty_prompts)\n",
    "print(num_not_empty_prompts)"
   ]
  }
 ],
 "metadata": {
  "kernelspec": {
   "display_name": "Python 3.11.0 64-bit",
   "language": "python",
   "name": "python3"
  },
  "language_info": {
   "codemirror_mode": {
    "name": "ipython",
    "version": 3
   },
   "file_extension": ".py",
   "mimetype": "text/x-python",
   "name": "python",
   "nbconvert_exporter": "python",
   "pygments_lexer": "ipython3",
   "version": "3.11.0"
  },
  "orig_nbformat": 4,
  "vscode": {
   "interpreter": {
    "hash": "aee8b7b246df8f9039afb4144a1f6fd8d2ca17a180786b69acc140d282b71a49"
   }
  }
 },
 "nbformat": 4,
 "nbformat_minor": 2
}
